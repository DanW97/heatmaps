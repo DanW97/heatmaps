{
 "cells": [
  {
   "cell_type": "code",
   "execution_count": null,
   "metadata": {},
   "outputs": [],
   "source": [
    "import pandas as pd\n",
    "from matplotlib import pyplot as plt\n",
    "from pylab import rcParams\n",
    "rcParams['figure.figsize'] = 7,7 \n",
    "import seaborn as sns\n",
    "import numpy as np\n",
    "sns.set(color_codes=True, font_scale=1.2)\n",
    "\n",
    "%matplotlib inline\n",
    "%config InlineBackend.figure_format = 'retina'\n",
    "%load_ext autoreload\n",
    "%autoreload 2"
   ]
  },
  {
   "cell_type": "code",
   "execution_count": null,
   "metadata": {},
   "outputs": [],
   "source": [
    "!pip install heatmapz"
   ]
  },
  {
   "cell_type": "code",
   "execution_count": null,
   "metadata": {},
   "outputs": [],
   "source": [
    "# Import the two methods from heatmap library\n",
    "from heatmap import heatmap, corrplot"
   ]
  },
  {
   "cell_type": "code",
   "execution_count": null,
   "metadata": {},
   "outputs": [],
   "source": [
    "# Load the Automobile dataset.\n",
    "# This gets a cleaned version of UCI dataset found at http://archive.ics.uci.edu/ml/datasets/automobile\n",
    "\n",
    "data = pd.read_csv('https://raw.githubusercontent.com/drazenz/heatmap/master/autos.clean.csv')"
   ]
  },
  {
   "cell_type": "markdown",
   "metadata": {},
   "source": [
    "## Correlation matrix plot"
   ]
  },
  {
   "cell_type": "code",
   "execution_count": null,
   "metadata": {},
   "outputs": [],
   "source": [
    "# Let's create a correlation matrix plot using all numerical columns from the dataset\n",
    "\n",
    "plt.figure(figsize=(8, 8))\n",
    "corrplot(data.corr(), size_scale=300);\n"
   ]
  },
  {
   "cell_type": "markdown",
   "metadata": {},
   "source": [
    "## Discrete joint distribution\n",
    "\n",
    "Let’s see how the cars in our data set are distributed according to horsepower and drivetrain layout. That is, we want to visualize the following table\n",
    "\n",
    "|  horsepower ↓ \\ drive-wheels → | 4wd | fwd | rwd |\n",
    "|-------------------------------|-----|-----|-----|\n",
    "|  Low (0-100)                  | 5   | 89  | 15  |\n",
    "| Medium (100-150)              | 3   | 24  | 35  |\n",
    "| High (150+)                   | 0   | 5   | 25  |\n",
    "\n",
    "\n",
    "First we calculate the counts per groups, to get values corresponding to the table above\n"
   ]
  },
  {
   "cell_type": "code",
   "execution_count": null,
   "metadata": {},
   "outputs": [],
   "source": [
    "data['cnt'] = np.ones(len(data))\n",
    "bin_labels = ['Low (0-100)', 'Medium (100-150)', 'High (150+)']\n",
    "\n",
    "data['horsepower-group'] = pd.cut(data['horsepower'], [0, 100, 150, data['horsepower'].max()], labels=bin_labels)\n",
    "g = data.groupby(['horsepower-group', 'drive-wheels']).count()[['cnt']].replace(np.nan, 0).reset_index()\n",
    "display(g)"
   ]
  },
  {
   "cell_type": "markdown",
   "metadata": {},
   "source": [
    "Then we can use the `heatmap` function to create a heatmap representing our distribution."
   ]
  },
  {
   "cell_type": "code",
   "execution_count": null,
   "metadata": {},
   "outputs": [],
   "source": [
    "plt.figure(figsize=(5, 5))\n",
    "\n",
    "heatmap(\n",
    "    x=g['drive-wheels'], # Column to use as horizontal dimension \n",
    "    y=g['horsepower-group'], # Column to use as vertical dimension\n",
    "    size_scale=7900, # Change this to see how it affects the plot\n",
    "    x_order=['4wd', 'fwd', 'rwd'], # Sort order for x labels\n",
    "    y_order=bin_labels[::-1], # Sort order for y labels\n",
    "    color=g['cnt'], # Values to map to color, here we use number of items in each bucket\n",
    "    palette=sns.cubehelix_palette(128)[::-1] # We'll use black->red palette\n",
    ")\n"
   ]
  },
  {
   "cell_type": "markdown",
   "metadata": {},
   "source": [
    "Let's use the `size` parameter. It will enable us to map item counts (ie. distribution frequences) to size in order to help our eyes see the distribution more clearly."
   ]
  },
  {
   "cell_type": "code",
   "execution_count": null,
   "metadata": {},
   "outputs": [],
   "source": [
    "plt.figure(figsize=(5, 5))\n",
    "\n",
    "heatmap(\n",
    "    x=g['drive-wheels'], # Column to use as horizontal dimension \n",
    "    y=g['horsepower-group'], # Column to use as vertical dimension\n",
    "    \n",
    "    size_scale=7000, # Change this to see how it affects the plot\n",
    "    size=g['cnt'], # Values to map to size, here we use number of items in each bucket\n",
    "    \n",
    "    x_order=['4wd', 'fwd', 'rwd'], # Sort order for x labels\n",
    "    y_order=bin_labels[::-1], # Sort order for y labels\n",
    "#     color=g['cnt'], # Values to map to color, here we use number of items in each bucket\n",
    "#     palette=sns.cubehelix_palette(128)[::-1] # We'll use black->red palette\n",
    ")"
   ]
  },
  {
   "cell_type": "markdown",
   "metadata": {},
   "source": [
    "Note that we used the same series for color and size, which is what we usually want to do.\n",
    "\n",
    "Play with the code above and see what happens when you leave `color` and `palette` unspecified.\n",
    "\n",
    "What happens if you use `palette=['orange']`?\n",
    "\n",
    "Can you recreate the `corrplot` method used in the first example? (You can find the implementation at https://github.com/drazenz/heatmap/blob/master/heatmap/heatmap.py)"
   ]
  }
 ],
 "metadata": {
  "kernelspec": {
   "display_name": "Python 3",
   "language": "python",
   "name": "python3"
  },
  "language_info": {
   "codemirror_mode": {
    "name": "ipython",
    "version": 3
   },
   "file_extension": ".py",
   "mimetype": "text/x-python",
   "name": "python",
   "nbconvert_exporter": "python",
   "pygments_lexer": "ipython3",
   "version": "3.7.4"
  }
 },
 "nbformat": 4,
 "nbformat_minor": 4
}
